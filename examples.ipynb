{
 "cells": [
  {
   "cell_type": "markdown",
   "metadata": {},
   "source": [
    "# **NAME PATTERNS**"
   ]
  },
  {
   "cell_type": "code",
   "execution_count": 5,
   "metadata": {},
   "outputs": [],
   "source": [
    "from pypatterns.name_patterns import get_name"
   ]
  },
  {
   "cell_type": "code",
   "execution_count": 6,
   "metadata": {},
   "outputs": [
    {
     "name": "stdout",
     "output_type": "stream",
     "text": [
      "   * * *     "
     ]
    },
    {
     "ename": "ValueError",
     "evalue": "Can Pass only alphabets and spaces",
     "output_type": "error",
     "traceback": [
      "\u001b[0;31m---------------------------------------------------------------------------\u001b[0m",
      "\u001b[0;31mNameError\u001b[0m                                 Traceback (most recent call last)",
      "File \u001b[0;32m~/workspace/pypatterns/name/__init__.py:15\u001b[0m, in \u001b[0;36mName.get_name\u001b[0;34m(self, name, symbol, animate)\u001b[0m\n\u001b[1;32m     14\u001b[0m     \u001b[39mprint\u001b[39m(lst[j][i]\u001b[39m.\u001b[39mreplace(\u001b[39m\"\u001b[39m\u001b[39m*\u001b[39m\u001b[39m\"\u001b[39m, symbol), end\u001b[39m=\u001b[39m\u001b[39m\"\u001b[39m\u001b[39m\"\u001b[39m)\n\u001b[0;32m---> 15\u001b[0m     sleep(time)\n\u001b[1;32m     16\u001b[0m sleep(time)\n",
      "\u001b[0;31mNameError\u001b[0m: name 'sleep' is not defined",
      "\nDuring handling of the above exception, another exception occurred:\n",
      "\u001b[0;31mValueError\u001b[0m                                Traceback (most recent call last)",
      "Cell \u001b[0;32mIn[6], line 1\u001b[0m\n\u001b[0;32m----> 1\u001b[0m \u001b[43mget_name\u001b[49m\u001b[43m(\u001b[49m\u001b[38;5;124;43m\"\u001b[39;49m\u001b[38;5;124;43mSAQIB SHAIKH\u001b[39;49m\u001b[38;5;124;43m\"\u001b[39;49m\u001b[43m)\u001b[49m\n",
      "File \u001b[0;32m~/workspace/pypatterns/name_patterns/__init__.py:41\u001b[0m, in \u001b[0;36mget_name\u001b[0;34m(name, symbol, animate)\u001b[0m\n\u001b[1;32m      3\u001b[0m \u001b[39mdef\u001b[39;00m \u001b[39mget_name\u001b[39m(name\u001b[39m=\u001b[39m\u001b[39mNone\u001b[39;00m, symbol\u001b[39m=\u001b[39m\u001b[39mNone\u001b[39;00m, animate\u001b[39m=\u001b[39m\u001b[39mFalse\u001b[39;00m):\n\u001b[1;32m      5\u001b[0m \u001b[39m    \u001b[39m\u001b[39m\"\"\"\u001b[39;00m\n\u001b[1;32m      6\u001b[0m \u001b[39m    Generate and print your name consisting of any symbol from keyboard (`*` id default).\u001b[39;00m\n\u001b[1;32m      7\u001b[0m \n\u001b[0;32m   (...)\u001b[0m\n\u001b[1;32m     38\u001b[0m \u001b[39m        - name parameter is case insensitive. Patterns always printed in upper case.\u001b[39;00m\n\u001b[1;32m     39\u001b[0m \u001b[39m    \"\"\"\u001b[39;00m\n\u001b[0;32m---> 41\u001b[0m     Name()\u001b[39m.\u001b[39;49mget_name(name, symbol, animate)\n",
      "File \u001b[0;32m~/workspace/pypatterns/name/__init__.py:19\u001b[0m, in \u001b[0;36mName.get_name\u001b[0;34m(self, name, symbol, animate)\u001b[0m\n\u001b[1;32m     17\u001b[0m         \u001b[39mprint\u001b[39m()\n\u001b[1;32m     18\u001b[0m \u001b[39mexcept\u001b[39;00m \u001b[39mException\u001b[39;00m \u001b[39mas\u001b[39;00m e:\n\u001b[0;32m---> 19\u001b[0m     \u001b[39mraise\u001b[39;00m \u001b[39mValueError\u001b[39;00m(\u001b[39m\"\u001b[39m\u001b[39mCan Pass only alphabets and spaces\u001b[39m\u001b[39m\"\u001b[39m)\n",
      "\u001b[0;31mValueError\u001b[0m: Can Pass only alphabets and spaces"
     ]
    }
   ],
   "source": [
    "get_name(\"SAQIB SHAIKH\")"
   ]
  },
  {
   "cell_type": "code",
   "execution_count": null,
   "metadata": {},
   "outputs": [],
   "source": [
    "get_name(name=\"SAQIB\", symbol=\"/\")"
   ]
  },
  {
   "cell_type": "code",
   "execution_count": 30,
   "metadata": {},
   "outputs": [],
   "source": [
    "class Name :\n",
    "    def get_name(self, name, symbol=None, animate=False) :\n",
    "        if animate :\n",
    "            time = 0.09\n",
    "        else :\n",
    "            time = 0\n",
    "        alphabets = self.__all_alphabets()\n",
    "        try :\n",
    "            if not symbol :\n",
    "                symbol = \"*\"\n",
    "            lst = [alphabets[letter] for letter in name.upper()]\n",
    "            for i in range(9) :\n",
    "                for j in range(len(name)) :\n",
    "                    print(lst[j][i].replace(\"*\", symbol), end=\"\")\n",
    "                    sleep(time)\n",
    "                print()\n",
    "        except Exception as e:\n",
    "            print(e)\n",
    "            # raise ValueError(\"Only alphabets and spaces are allowed\")\n",
    "\n",
    "    def __all_alphabets(self) :\n",
    "    # ALL ALPHABETS        \n",
    "        A = [\n",
    "                '    * *      ',\n",
    "                '  *     *    ',\n",
    "                ' *       *   ',\n",
    "                '*         *  ',\n",
    "                '* * * * * *  ',\n",
    "                '*         *  ',\n",
    "                '*         *  ',\n",
    "                '*         *  ',\n",
    "                '*         *  '\n",
    "            ]\n",
    "\n",
    "        B = [\n",
    "                '* * * *     ',\n",
    "                '*       *   ',\n",
    "                '*        *  ',\n",
    "                '*       *   ',\n",
    "                '* * * *     ',\n",
    "                '*       *   ',\n",
    "                '*        *  ',\n",
    "                '*       *   ',\n",
    "                '* * * *     '\n",
    "            ]\n",
    "\n",
    "        C = [\n",
    "                '   * * *      ',\n",
    "                ' *       *    ',\n",
    "                '*         *   ',\n",
    "                '*             ',\n",
    "                '*             ',\n",
    "                '*             ',\n",
    "                '*         *   ',\n",
    "                ' *       *    ',\n",
    "                '   * * *      '\n",
    "            ]\n",
    "\n",
    "        D = [\n",
    "                '* * *        ',\n",
    "                '*      *     ',\n",
    "                '*        *   ',\n",
    "                '*         *  ',\n",
    "                '*         *  ',\n",
    "                '*         *  ',\n",
    "                '*        *   ',\n",
    "                '*      *     ',\n",
    "                '* * *        '\n",
    "            ]\n",
    "\n",
    "        E = [\n",
    "                '* * * * *   ',\n",
    "                '*           ',\n",
    "                '*           ',\n",
    "                '*           ',\n",
    "                '* * * * *   ',\n",
    "                '*           ',\n",
    "                '*           ',\n",
    "                '*           ',\n",
    "                '* * * * *   '\n",
    "            ]\n",
    "\n",
    "        F = [\n",
    "                '* * * * *   ',\n",
    "                '*           ',\n",
    "                '*           ',\n",
    "                '*           ',\n",
    "                '* * * * *   ',\n",
    "                '*           ',\n",
    "                '*           ',\n",
    "                '*           ',\n",
    "                '*           '\n",
    "            ]\n",
    "\n",
    "        G = [\n",
    "                '   * * *      ',\n",
    "                ' *       *    ',\n",
    "                '*         *   ',\n",
    "                '*             ',\n",
    "                '*             ',\n",
    "                '*    * * * *  ',\n",
    "                '*        * *  ',\n",
    "                ' *       * *  ',\n",
    "                '   * * *   *  '\n",
    "            ]\n",
    "\n",
    "        H = [\n",
    "                '*         *  ',\n",
    "                '*         *  ',\n",
    "                '*         *  ',\n",
    "                '*         *  ',\n",
    "                '* * * * * *  ',\n",
    "                '*         *  ',\n",
    "                '*         *  ',\n",
    "                '*         *  ',\n",
    "                '*         *  '\n",
    "            ]\n",
    "\n",
    "        I = [\n",
    "                '* * * * *   ',\n",
    "                '    *       ',\n",
    "                '    *       ',\n",
    "                '    *       ',\n",
    "                '    *       ',\n",
    "                '    *       ',\n",
    "                '    *       ',\n",
    "                '    *       ',\n",
    "                '* * * * *   '\n",
    "            ]\n",
    "\n",
    "        J = [\n",
    "                ' * * * * *  ',\n",
    "                '     *      ',\n",
    "                '     *      ',\n",
    "                '     *      ',\n",
    "                '     *      ',\n",
    "                '     *      ',\n",
    "                '*    *      ',\n",
    "                '  *  *      ',\n",
    "                '     *      '\n",
    "            ]\n",
    "\n",
    "        K = [\n",
    "                '*         *  ',\n",
    "                '*       *    ',\n",
    "                '*     *      ',\n",
    "                '*   *        ',\n",
    "                '* *          ',\n",
    "                '*   *        ',\n",
    "                '*     *      ',\n",
    "                '*       *    ',\n",
    "                '*         *  '\n",
    "            ]\n",
    "\n",
    "        L = [\n",
    "                '*             ',\n",
    "                '*             ',\n",
    "                '*             ',\n",
    "                '*             ',\n",
    "                '*             ',\n",
    "                '*             ',\n",
    "                '*             ',\n",
    "                '*             ',\n",
    "                '* * * * * *   '\n",
    "            ]\n",
    "\n",
    "        M = [\n",
    "                '*         *  ',\n",
    "                '* *     * *  ',\n",
    "                '*  *   *  *  ',\n",
    "                '*   * *   *  ',\n",
    "                '*    *    *  ',\n",
    "                '*         *  ',\n",
    "                '*         *  ',\n",
    "                '*         *  ',\n",
    "                '*         *  '\n",
    "            ]\n",
    "\n",
    "        N = [\n",
    "                '*         *  ',\n",
    "                '* *       *  ',\n",
    "                '*  *      *  ',\n",
    "                '*   *     *  ',\n",
    "                '*    *    *  ',\n",
    "                '*     *   *  ',\n",
    "                '*      *  *  ',\n",
    "                '*       * *  ',\n",
    "                '*         *  '\n",
    "            ]\n",
    "\n",
    "        O = [\n",
    "                '   * * *     ',\n",
    "                ' *       *   ',\n",
    "                '*         *  ',\n",
    "                '*         *  ',\n",
    "                '*         *  ',\n",
    "                '*         *  ',\n",
    "                '*         *  ',\n",
    "                ' *       *   ',\n",
    "                '   * * *     '\n",
    "            ]\n",
    "\n",
    "        P = [\n",
    "                '* * * *     ',\n",
    "                '*       *   ',\n",
    "                '*        *  ',\n",
    "                '*       *   ',\n",
    "                '* * * *     ',\n",
    "                '*           ',\n",
    "                '*           ',\n",
    "                '*           ',\n",
    "                '*           '\n",
    "            ]\n",
    "\n",
    "        Q = [\n",
    "                '   * * *     ',\n",
    "                ' *       *   ',\n",
    "                '*         *  ',\n",
    "                '*         *  ',\n",
    "                '*         *  ',\n",
    "                '*         *  ',\n",
    "                '*      *  *  ',\n",
    "                ' *       *   ',\n",
    "                '   * * *   * '\n",
    "            ]\n",
    "\n",
    "        R = [\n",
    "                '* * * *     ',\n",
    "                '*       *   ',\n",
    "                '*        *  ',\n",
    "                '*       *   ',\n",
    "                '* * * *     ',\n",
    "                '*  *        ',\n",
    "                '*    *      ',\n",
    "                '*      *    ',\n",
    "                '*        *  '\n",
    "            ]\n",
    "\n",
    "        S = [\n",
    "                '   * * *     ',\n",
    "                ' *       *   ',\n",
    "                '*            ',\n",
    "                ' *           ',\n",
    "                '   * * *     ',\n",
    "                '         *   ',\n",
    "                '          *  ',\n",
    "                ' *       *   ',\n",
    "                '   * * *     '\n",
    "            ]\n",
    "\n",
    "        T = [\n",
    "                '* * * * * * *  ',\n",
    "                '      *        ',\n",
    "                '      *        ',\n",
    "                '      *        ',\n",
    "                '      *        ',\n",
    "                '      *        ',\n",
    "                '      *        ',\n",
    "                '      *        ',\n",
    "                '      *        '\n",
    "            ]\n",
    "\n",
    "        U = [\n",
    "                '*         *  ',\n",
    "                '*         *  ',\n",
    "                '*         *  ',\n",
    "                '*         *  ',\n",
    "                '*         *  ',\n",
    "                '*         *  ',\n",
    "                '*         *  ',\n",
    "                ' *       *   ',\n",
    "                '   * * *     '\n",
    "            ]\n",
    "\n",
    "        V = [\n",
    "                '*             *  ',\n",
    "                '*             *  ',\n",
    "                '*             *  ',\n",
    "                '*             *  ',\n",
    "                '*             *  ',\n",
    "                '*             *  ',\n",
    "                '  *         *    ',\n",
    "                '    *     *      ',\n",
    "                '       *         '\n",
    "            ]\n",
    "\n",
    "        W = [\n",
    "                '*         *  ',\n",
    "                '*         *  ',\n",
    "                '*         *  ',\n",
    "                '*         *  ',\n",
    "                '*    *    *  ',\n",
    "                '*   * *   *  ',\n",
    "                '*  *   *  *  ',\n",
    "                '* *     * *  ',\n",
    "                '*         *  '\n",
    "            ]\n",
    "\n",
    "        X = [\n",
    "                '*       *  ',\n",
    "                ' *     *   ',\n",
    "                '  *   *    ',\n",
    "                '   * *     ',\n",
    "                '    *      ',\n",
    "                '   * *     ',\n",
    "                '  *   *    ',\n",
    "                ' *     *   ',\n",
    "                '*       *  '\n",
    "            ]\n",
    "\n",
    "        Y = [\n",
    "                '*             *  ',\n",
    "                '  *         *    ',\n",
    "                '    *     *      ',\n",
    "                '      * *        ',\n",
    "                '       *         ',\n",
    "                '       *         ',\n",
    "                '       *         ',\n",
    "                '       *         ',\n",
    "                '       *         '\n",
    "            ]\n",
    "\n",
    "        Z = [\n",
    "                '* * * * * * * *  ',\n",
    "                '             *   ',\n",
    "                '           *     ',\n",
    "                '         *       ',\n",
    "                '       *         ',\n",
    "                '     *           ',\n",
    "                '   *             ',\n",
    "                ' *               ',\n",
    "                '* * * * * * * *  '\n",
    "            ]\n",
    "\n",
    "        sp = [\n",
    "                '     ',\n",
    "                '     ',\n",
    "                '     ',\n",
    "                '     ',\n",
    "                '     ',\n",
    "                '     ',\n",
    "                '     ',\n",
    "                '     ',\n",
    "                '     '\n",
    "            ]\n",
    "\n",
    "        return {\n",
    "                  \"A\" : A, \"B\" : B, \"C\" : C, \"D\" : D,\n",
    "                  \"E\" : E, \"F\" : F, \"G\" : G, \"H\" : H,\n",
    "                  \"I\" : I, \"J\" : J, \"K\" : K, \"L\" : L,\n",
    "                  \"M\" : M, \"N\" : N, \"O\" : O, \"P\" : P,\n",
    "                  \"Q\" : Q, \"R\" : R, \"S\" : S, \"T\" : T,\n",
    "                  \"U\" : U, \"V\" : V, \"W\" : W, \"X\" : X,\n",
    "                  \"Y\" : Y, \"Z\" : Z, \" \" : sp\n",
    "               }"
   ]
  },
  {
   "cell_type": "code",
   "execution_count": 50,
   "metadata": {},
   "outputs": [],
   "source": [
    "\n",
    "\n",
    "def get_names(name=None, symbol=None, animate=False):\n",
    "\n",
    "    \"\"\"\n",
    "    Generate and print your name consisting of any symbol from keyboard (`*` id default).\n",
    "\n",
    "    Args:\n",
    "        name : The name or string you want to print.\n",
    "\n",
    "        symbol (str, optional): Symbol using which you want to print your string.\n",
    "\n",
    "    Raises:\n",
    "        ValueError: Raised when the input `name` contains non alphabets or space.\n",
    "\n",
    "    Returns:\n",
    "        None: This function does not return a value. It prints the pyramid pattern directly.\n",
    "\n",
    "    Example:\n",
    "\n",
    "        To print an upright pyramid with 5 rows:\n",
    "        get_name(name=\"SAQIB\", symbol=\"/\")\n",
    "        ```\n",
    "           / / /         / /         / / /     / / / / /   / / / /    \n",
    "         /       /     /     /     /       /       /       /       /  \n",
    "        /             /       /   /         /      /       /        / \n",
    "         /           /         /  /         /      /       /       /  \n",
    "           / / /     / / / / / /  /         /      /       / / / /    \n",
    "                 /   /         /  /         /      /       /       /  \n",
    "                  /  /         /  /      /  /      /       /        / \n",
    "         /       /   /         /   /       /       /       /       /  \n",
    "           / / /     /         /     / / /   / / / / / /   / / / /    \n",
    "        ```\n",
    "\n",
    "    Note:\n",
    "        - You do not require to use print function for printing the pattern. \n",
    "          Just function calling will print the pattern.\n",
    "        - name parameter is case insensitive. Patterns always printed in upper case.\n",
    "    \"\"\"\n",
    "    if len(name) <= 16 :\n",
    "        Name().get_name(name[:16], symbol, animate)\n",
    "    elif 17 <= len(name) <= 32 :\n",
    "        Name().get_name(name[:16], symbol, animate)\n",
    "        print()\n",
    "        Name().get_name(name[16:], symbol, animate)\n",
    "    else :\n",
    "        raise ValueError(\"Your Name is too large Please give some short name.\")"
   ]
  },
  {
   "cell_type": "markdown",
   "metadata": {},
   "source": [
    "# **STAR PATTERNS**"
   ]
  },
  {
   "cell_type": "markdown",
   "metadata": {},
   "source": [
    "## **PYRAMID**"
   ]
  },
  {
   "cell_type": "code",
   "execution_count": null,
   "metadata": {},
   "outputs": [],
   "source": [
    "from pypatterns import star_patterns"
   ]
  },
  {
   "cell_type": "code",
   "execution_count": null,
   "metadata": {},
   "outputs": [],
   "source": [
    "star_patterns.get_star_pyramid()"
   ]
  },
  {
   "cell_type": "code",
   "execution_count": null,
   "metadata": {},
   "outputs": [],
   "source": [
    "star_patterns.get_star_hollow_pyramid()"
   ]
  },
  {
   "cell_type": "code",
   "execution_count": null,
   "metadata": {},
   "outputs": [],
   "source": [
    "star_patterns.get_star_pyramid(n = 10 , inverted = True)"
   ]
  },
  {
   "cell_type": "markdown",
   "metadata": {},
   "source": [
    "## **TRIANGLE**"
   ]
  },
  {
   "cell_type": "code",
   "execution_count": null,
   "metadata": {},
   "outputs": [],
   "source": [
    "star_patterns.get_star_triangle()"
   ]
  },
  {
   "cell_type": "code",
   "execution_count": null,
   "metadata": {},
   "outputs": [],
   "source": [
    "star_patterns.get_star_triangle(n = 6, inverted = True)"
   ]
  },
  {
   "cell_type": "code",
   "execution_count": null,
   "metadata": {},
   "outputs": [],
   "source": [
    "star_patterns.get_star_hollow_triangle(n = 7)"
   ]
  },
  {
   "cell_type": "markdown",
   "metadata": {},
   "source": [
    "## **DIAMOND**"
   ]
  },
  {
   "cell_type": "code",
   "execution_count": null,
   "metadata": {},
   "outputs": [],
   "source": [
    "star_patterns.get_star_diamond()"
   ]
  },
  {
   "cell_type": "code",
   "execution_count": null,
   "metadata": {},
   "outputs": [],
   "source": [
    "star_patterns.get_star_hollow_diamond(n = 7)"
   ]
  },
  {
   "cell_type": "code",
   "execution_count": null,
   "metadata": {},
   "outputs": [],
   "source": [
    "star_patterns.get_star_diamond2()"
   ]
  },
  {
   "cell_type": "markdown",
   "metadata": {},
   "source": [
    "## **GET ALL START PATTERNS**"
   ]
  },
  {
   "cell_type": "code",
   "execution_count": null,
   "metadata": {},
   "outputs": [],
   "source": [
    "# LET'S PRINT ALL STAR PATTERNS IN ONE STROKE WITH DEFAULT ARGUMENTS\n",
    "from pypatterns.star_patterns import *\n",
    "\n",
    "for func in dir(star_patterns) :\n",
    "    if callable(getattr(star_patterns, func)) :\n",
    "        globals()[func]()\n",
    "        print()"
   ]
  },
  {
   "cell_type": "code",
   "execution_count": null,
   "metadata": {},
   "outputs": [],
   "source": [
    "# LET'S PRINT ALL STAR PATTERNS IN ONE STROKE WITH INVERTED ARGUMENT\n",
    "\n",
    "for func in dir(star_patterns) :\n",
    "    if callable(getattr(star_patterns, func)) :\n",
    "        if globals()[f'{func}'].__code__.co_varnames[1] == \"inverted\" :\n",
    "            globals()[func](inverted = True)\n",
    "        print()"
   ]
  },
  {
   "cell_type": "markdown",
   "metadata": {},
   "source": [
    "# **NUMBER PATTERNS**"
   ]
  },
  {
   "cell_type": "code",
   "execution_count": null,
   "metadata": {},
   "outputs": [],
   "source": [
    "from pypatterns import number_patterns"
   ]
  },
  {
   "cell_type": "markdown",
   "metadata": {},
   "source": [
    "## **PASCAL'S TRIANGLE**"
   ]
  },
  {
   "cell_type": "code",
   "execution_count": null,
   "metadata": {},
   "outputs": [],
   "source": [
    "number_patterns.get_pascal_triangle(n = 10)"
   ]
  },
  {
   "cell_type": "markdown",
   "metadata": {},
   "source": [
    "## **TRIANGLE1**"
   ]
  },
  {
   "cell_type": "code",
   "execution_count": null,
   "metadata": {},
   "outputs": [],
   "source": [
    "number_patterns.get_triangle1()"
   ]
  },
  {
   "cell_type": "markdown",
   "metadata": {},
   "source": [
    "## **TRIANGLE2**"
   ]
  },
  {
   "cell_type": "code",
   "execution_count": null,
   "metadata": {},
   "outputs": [],
   "source": [
    "number_patterns.get_triangle2(n = 8)"
   ]
  },
  {
   "cell_type": "markdown",
   "metadata": {},
   "source": [
    "## **PYRAMID1**"
   ]
  },
  {
   "cell_type": "code",
   "execution_count": null,
   "metadata": {},
   "outputs": [],
   "source": [
    "number_patterns.get_pyramid1(inverted=True)"
   ]
  },
  {
   "cell_type": "markdown",
   "metadata": {},
   "source": [
    "# **ALPHABET PATTERNS**"
   ]
  },
  {
   "cell_type": "code",
   "execution_count": null,
   "metadata": {},
   "outputs": [],
   "source": [
    "from pypatterns import alphabet_patterns"
   ]
  },
  {
   "cell_type": "markdown",
   "metadata": {},
   "source": [
    "## **TRIANGLE**"
   ]
  },
  {
   "cell_type": "code",
   "execution_count": null,
   "metadata": {},
   "outputs": [],
   "source": [
    "alphabet_patterns.get_alpha_triangle()"
   ]
  },
  {
   "cell_type": "markdown",
   "metadata": {},
   "source": [
    "## **PYRAMID1**"
   ]
  },
  {
   "cell_type": "code",
   "execution_count": null,
   "metadata": {},
   "outputs": [],
   "source": [
    "alphabet_patterns.get_alpha_pyramid1(inverted = True)"
   ]
  },
  {
   "cell_type": "markdown",
   "metadata": {},
   "source": [
    "## **PYRAMID2**"
   ]
  },
  {
   "cell_type": "code",
   "execution_count": null,
   "metadata": {},
   "outputs": [],
   "source": [
    "alphabet_patterns.get_alpha_pyramid2(n = 10)"
   ]
  },
  {
   "cell_type": "markdown",
   "metadata": {},
   "source": [
    "# **GET PATTERN'S CODE**"
   ]
  },
  {
   "cell_type": "code",
   "execution_count": null,
   "metadata": {},
   "outputs": [],
   "source": [
    "from pypatterns import get_pattern_code"
   ]
  },
  {
   "cell_type": "code",
   "execution_count": null,
   "metadata": {},
   "outputs": [],
   "source": [
    "get_pattern_code.get_star_triangle_code()"
   ]
  },
  {
   "cell_type": "code",
   "execution_count": null,
   "metadata": {},
   "outputs": [],
   "source": [
    "get_pattern_code.get_pyramid1_code()"
   ]
  },
  {
   "cell_type": "code",
   "execution_count": null,
   "metadata": {},
   "outputs": [],
   "source": [
    "get_pattern_code.get_alpha_triangle_code()"
   ]
  }
 ],
 "metadata": {
  "kernelspec": {
   "display_name": "Python 3.8.10 64-bit",
   "language": "python",
   "name": "python3"
  },
  "language_info": {
   "codemirror_mode": {
    "name": "ipython",
    "version": 3
   },
   "file_extension": ".py",
   "mimetype": "text/x-python",
   "name": "python",
   "nbconvert_exporter": "python",
   "pygments_lexer": "ipython3",
   "version": "3.8.10"
  },
  "orig_nbformat": 4,
  "vscode": {
   "interpreter": {
    "hash": "e7370f93d1d0cde622a1f8e1c04877d8463912d04d973331ad4851f04de6915a"
   }
  }
 },
 "nbformat": 4,
 "nbformat_minor": 2
}
