{
 "cells": [
  {
   "cell_type": "markdown",
   "metadata": {},
   "source": [
    "# **STAR PATTERNS**"
   ]
  },
  {
   "cell_type": "markdown",
   "metadata": {},
   "source": [
    "## **PYRAMID**"
   ]
  },
  {
   "cell_type": "code",
   "execution_count": null,
   "metadata": {},
   "outputs": [],
   "source": []
  },
  {
   "cell_type": "code",
   "execution_count": null,
   "metadata": {},
   "outputs": [],
   "source": []
  },
  {
   "cell_type": "code",
   "execution_count": null,
   "metadata": {},
   "outputs": [],
   "source": []
  },
  {
   "cell_type": "code",
   "execution_count": null,
   "metadata": {},
   "outputs": [],
   "source": []
  },
  {
   "cell_type": "markdown",
   "metadata": {},
   "source": [
    "## **TRIANGLE**"
   ]
  },
  {
   "cell_type": "code",
   "execution_count": null,
   "metadata": {},
   "outputs": [],
   "source": []
  },
  {
   "cell_type": "code",
   "execution_count": null,
   "metadata": {},
   "outputs": [],
   "source": []
  },
  {
   "cell_type": "code",
   "execution_count": null,
   "metadata": {},
   "outputs": [],
   "source": []
  },
  {
   "cell_type": "code",
   "execution_count": null,
   "metadata": {},
   "outputs": [],
   "source": []
  },
  {
   "cell_type": "markdown",
   "metadata": {},
   "source": [
    "## **DIAMOND**"
   ]
  },
  {
   "cell_type": "code",
   "execution_count": null,
   "metadata": {},
   "outputs": [],
   "source": []
  },
  {
   "cell_type": "code",
   "execution_count": null,
   "metadata": {},
   "outputs": [],
   "source": []
  },
  {
   "cell_type": "code",
   "execution_count": null,
   "metadata": {},
   "outputs": [],
   "source": []
  },
  {
   "cell_type": "code",
   "execution_count": null,
   "metadata": {},
   "outputs": [],
   "source": []
  },
  {
   "cell_type": "markdown",
   "metadata": {},
   "source": [
    "# **NUMBER PATTERNS**"
   ]
  },
  {
   "cell_type": "markdown",
   "metadata": {},
   "source": [
    "## **PASCAL'S TRIANGLE**"
   ]
  },
  {
   "cell_type": "markdown",
   "metadata": {},
   "source": [
    "## **TRIANGLE1**"
   ]
  },
  {
   "cell_type": "code",
   "execution_count": null,
   "metadata": {},
   "outputs": [],
   "source": []
  },
  {
   "cell_type": "markdown",
   "metadata": {},
   "source": [
    "## **TRIANGLE2**"
   ]
  },
  {
   "cell_type": "code",
   "execution_count": null,
   "metadata": {},
   "outputs": [],
   "source": []
  },
  {
   "cell_type": "markdown",
   "metadata": {},
   "source": [
    "## **PYRAMID1**"
   ]
  },
  {
   "cell_type": "code",
   "execution_count": null,
   "metadata": {},
   "outputs": [],
   "source": []
  },
  {
   "cell_type": "markdown",
   "metadata": {},
   "source": [
    "# **ALPHABET PATTERNS**"
   ]
  },
  {
   "cell_type": "markdown",
   "metadata": {},
   "source": [
    "## **TRIANGLE**"
   ]
  },
  {
   "cell_type": "code",
   "execution_count": null,
   "metadata": {},
   "outputs": [],
   "source": []
  },
  {
   "cell_type": "markdown",
   "metadata": {},
   "source": [
    "## **PYRAMID1**"
   ]
  },
  {
   "cell_type": "code",
   "execution_count": null,
   "metadata": {},
   "outputs": [],
   "source": []
  },
  {
   "cell_type": "markdown",
   "metadata": {},
   "source": [
    "## **PYRAMID2**"
   ]
  },
  {
   "cell_type": "code",
   "execution_count": null,
   "metadata": {},
   "outputs": [],
   "source": []
  },
  {
   "cell_type": "markdown",
   "metadata": {},
   "source": [
    "# **GET PATTERN'S CODE**"
   ]
  },
  {
   "cell_type": "markdown",
   "metadata": {},
   "source": []
  },
  {
   "cell_type": "markdown",
   "metadata": {},
   "source": []
  },
  {
   "cell_type": "markdown",
   "metadata": {},
   "source": []
  },
  {
   "cell_type": "code",
   "execution_count": 4,
   "metadata": {},
   "outputs": [],
   "source": [
    "from patterns import star_patterns"
   ]
  },
  {
   "cell_type": "code",
   "execution_count": 25,
   "metadata": {},
   "outputs": [
    {
     "data": {
      "text/plain": [
       "120"
      ]
     },
     "execution_count": 25,
     "metadata": {},
     "output_type": "execute_result"
    }
   ],
   "source": [
    "dir(star_patterns)\n",
    "from math import factorial\n",
    "globals()[\"factorial\"](5)"
   ]
  },
  {
   "cell_type": "code",
   "execution_count": 13,
   "metadata": {},
   "outputs": [],
   "source": [
    "from patterns import star_patterns , alphabet_patterns , get_pattern_code"
   ]
  },
  {
   "cell_type": "code",
   "execution_count": 65,
   "metadata": {},
   "outputs": [],
   "source": [
    "def get_diamond(n : int) -> None :\n",
    "    for i in range(1 , n + 1) :\n",
    "        print(\"   \" * (n - i) + \" * \" * (2 * i - 1))\n",
    "    for i in range(n - 1 , 0 , -1) :\n",
    "        print(\"   \" * (n - i) + \" * \" * (2 * i - 1))"
   ]
  },
  {
   "cell_type": "code",
   "execution_count": 66,
   "metadata": {},
   "outputs": [
    {
     "name": "stdout",
     "output_type": "stream",
     "text": [
      "       * \n",
      "    *  *  * \n",
      " *  *  *  *  * \n",
      "    *  *  * \n",
      "       * \n"
     ]
    }
   ],
   "source": [
    "get_diamond(3)"
   ]
  },
  {
   "cell_type": "code",
   "execution_count": 72,
   "metadata": {},
   "outputs": [
    {
     "name": "stdout",
     "output_type": "stream",
     "text": [
      "        *\n",
      "      *   *\n",
      "    *       *\n",
      "  *           *\n",
      "*               *\n",
      "  *           *\n",
      "    *       *\n",
      "      *   *\n",
      "        *\n"
     ]
    }
   ],
   "source": [
    "get_hollow_diamond(5)"
   ]
  },
  {
   "cell_type": "code",
   "execution_count": 112,
   "metadata": {},
   "outputs": [],
   "source": [
    "def get_hollow_rhombus(n : int , inverted : bool = False) -> None :\n",
    "    for i in range(n , 0 , -1) :\n",
    "        if i == 1 or i == n :\n",
    "            print(\"  \" * (n - i) + \" * \" * n)\n",
    "        else :\n",
    "            print(\"  \" * (n - i) + \" * \" + \"   \" * (n - 2) + \" *\")"
   ]
  },
  {
   "cell_type": "code",
   "execution_count": 113,
   "metadata": {},
   "outputs": [
    {
     "name": "stdout",
     "output_type": "stream",
     "text": [
      " *  *  *  *  *  * \n",
      "   *              *\n",
      "     *              *\n",
      "       *              *\n",
      "         *              *\n",
      "           *  *  *  *  *  * \n"
     ]
    }
   ],
   "source": [
    "get_hollow_rhombus(6)"
   ]
  },
  {
   "cell_type": "code",
   "execution_count": 9,
   "metadata": {},
   "outputs": [
    {
     "name": "stdout",
     "output_type": "stream",
     "text": [
      "    \u001b[34mdef\u001b[39;49;00m \u001b[32mget_x\u001b[39;49;00m(n : \u001b[36mint\u001b[39;49;00m) -> \u001b[34mNone\u001b[39;49;00m :\u001b[37m\u001b[39;49;00m\n",
      "        \u001b[34mfor\u001b[39;49;00m i \u001b[35min\u001b[39;49;00m \u001b[36mrange\u001b[39;49;00m(n , \u001b[34m0\u001b[39;49;00m , -\u001b[34m1\u001b[39;49;00m) :\u001b[37m\u001b[39;49;00m\n",
      "            \u001b[34mif\u001b[39;49;00m i == \u001b[34m1\u001b[39;49;00m \u001b[35mor\u001b[39;49;00m i == \u001b[34m2\u001b[39;49;00m * n -\u001b[34m1\u001b[39;49;00m:\u001b[37m\u001b[39;49;00m\n",
      "                \u001b[36mprint\u001b[39;49;00m(\u001b[33m\"\u001b[39;49;00m\u001b[33m  \u001b[39;49;00m\u001b[33m\"\u001b[39;49;00m * (n - i) + \u001b[33m\"\u001b[39;49;00m\u001b[33m*\u001b[39;49;00m\u001b[33m\"\u001b[39;49;00m)\u001b[37m\u001b[39;49;00m\n",
      "            \u001b[34melse\u001b[39;49;00m :\u001b[37m\u001b[39;49;00m\n",
      "                \u001b[36mprint\u001b[39;49;00m(\u001b[33m\"\u001b[39;49;00m\u001b[33m  \u001b[39;49;00m\u001b[33m\"\u001b[39;49;00m * (n - i) + \u001b[33m\"\u001b[39;49;00m\u001b[33m* \u001b[39;49;00m\u001b[33m\"\u001b[39;49;00m + \u001b[33m\"\u001b[39;49;00m\u001b[33m  \u001b[39;49;00m\u001b[33m\"\u001b[39;49;00m * (\u001b[34m2\u001b[39;49;00m*i - \u001b[34m3\u001b[39;49;00m) + \u001b[33m\"\u001b[39;49;00m\u001b[33m*\u001b[39;49;00m\u001b[33m\"\u001b[39;49;00m)\u001b[37m\u001b[39;49;00m\n",
      "\u001b[37m\u001b[39;49;00m\n",
      "        \u001b[34mfor\u001b[39;49;00m i \u001b[35min\u001b[39;49;00m \u001b[36mrange\u001b[39;49;00m(\u001b[34m2\u001b[39;49;00m , n + \u001b[34m1\u001b[39;49;00m) :\u001b[37m\u001b[39;49;00m\n",
      "            \u001b[34mif\u001b[39;49;00m i == \u001b[34m1\u001b[39;49;00m \u001b[35mor\u001b[39;49;00m i == \u001b[34m2\u001b[39;49;00m * n -\u001b[34m1\u001b[39;49;00m:\u001b[37m\u001b[39;49;00m\n",
      "                \u001b[36mprint\u001b[39;49;00m(\u001b[33m\"\u001b[39;49;00m\u001b[33m  \u001b[39;49;00m\u001b[33m\"\u001b[39;49;00m * (n - i) + \u001b[33m\"\u001b[39;49;00m\u001b[33m*\u001b[39;49;00m\u001b[33m\"\u001b[39;49;00m)\u001b[37m\u001b[39;49;00m\n",
      "            \u001b[34melse\u001b[39;49;00m :\u001b[37m\u001b[39;49;00m\n",
      "                \u001b[36mprint\u001b[39;49;00m(\u001b[33m\"\u001b[39;49;00m\u001b[33m  \u001b[39;49;00m\u001b[33m\"\u001b[39;49;00m * (n - i) + \u001b[33m\"\u001b[39;49;00m\u001b[33m* \u001b[39;49;00m\u001b[33m\"\u001b[39;49;00m + \u001b[33m\"\u001b[39;49;00m\u001b[33m  \u001b[39;49;00m\u001b[33m\"\u001b[39;49;00m * (\u001b[34m2\u001b[39;49;00m*i - \u001b[34m3\u001b[39;49;00m) + \u001b[33m\"\u001b[39;49;00m\u001b[33m*\u001b[39;49;00m\u001b[33m\"\u001b[39;49;00m)\u001b[37m\u001b[39;49;00m\n",
      "    \u001b[37m\u001b[39;49;00m\n",
      "\n"
     ]
    }
   ],
   "source": [
    "get_x_code()"
   ]
  },
  {
   "cell_type": "code",
   "execution_count": 99,
   "metadata": {},
   "outputs": [
    {
     "name": "stdout",
     "output_type": "stream",
     "text": [
      " *  *  *  *  *  * \n",
      "   *  *  *  *  *  * \n",
      "     *  *  *  *  *  * \n",
      "       *  *  *  *  *  * \n",
      "         *  *  *  *  *  * \n",
      "           *  *  *  *  *  * \n"
     ]
    }
   ],
   "source": [
    "get_rhombus(6)"
   ]
  },
  {
   "cell_type": "code",
   "execution_count": 10,
   "metadata": {},
   "outputs": [],
   "source": [
    "from patterns.star_patterns import *"
   ]
  },
  {
   "cell_type": "code",
   "execution_count": 187,
   "metadata": {},
   "outputs": [
    {
     "name": "stdout",
     "output_type": "stream",
     "text": [
      "*  *  *  *  *  \n",
      "*  *  *  *  *  \n",
      "*  *  *  *  *  \n",
      "*  *  *  *  *  \n",
      "*  *  *  *  *  \n"
     ]
    }
   ],
   "source": [
    "get_recangle(5)"
   ]
  },
  {
   "cell_type": "code",
   "execution_count": 12,
   "metadata": {},
   "outputs": [
    {
     "name": "stdout",
     "output_type": "stream",
     "text": [
      "             * \n",
      "          *  *  * \n",
      "       *  *  *  *  * \n",
      "    *  *  *  *  *  *  * \n",
      " *  *  *  *  *  *  *  *  * \n",
      "    *  *  *  *  *  *  * \n",
      "       *  *  *  *  * \n",
      "          *  *  * \n",
      "             * \n"
     ]
    }
   ],
   "source": [
    "get_diamond(5)"
   ]
  },
  {
   "cell_type": "code",
   "execution_count": 14,
   "metadata": {},
   "outputs": [
    {
     "name": "stdout",
     "output_type": "stream",
     "text": [
      "*  \n",
      "*  *  \n",
      "*  *  *  \n",
      "*  *  *  *  \n",
      "*  *  *  *  *  \n"
     ]
    }
   ],
   "source": [
    "get_right_triangle(5)"
   ]
  },
  {
   "cell_type": "code",
   "execution_count": 188,
   "metadata": {},
   "outputs": [
    {
     "name": "stdout",
     "output_type": "stream",
     "text": [
      "*  *  *  *  *  \n",
      "*           *\n",
      "*           *\n",
      "*           *\n",
      "*  *  *  *  *  \n"
     ]
    }
   ],
   "source": [
    "get_hollow_recangle(5)"
   ]
  },
  {
   "cell_type": "code",
   "execution_count": 3,
   "metadata": {},
   "outputs": [
    {
     "name": "stdout",
     "output_type": "stream",
     "text": [
      "                             #  \n",
      "                           #   #  \n",
      "                         #   #   #  \n",
      "                       #   #   #   #  \n",
      "                     #   #   #   #   #  \n",
      "                   #   #   #   #   #   #  \n",
      "                 #   #   #   #   #   #   #  \n",
      "               #   #   #   #   #   #   #   #  \n",
      "             #   #   #   #   #   #   #   #   #  \n",
      "           #   #   #   #   #   #   #   #   #   #  \n",
      "         #   #   #   #   #   #   #   #   #   #   #  \n",
      "       #   #   #   #   #   #   #   #   #   #   #   #  \n",
      "     #   #   #   #   #   #   #   #   #   #   #   #   #  \n",
      "   #   #   #   #   #   #   #   #   #   #   #   #   #   #  \n",
      " #   #   #   #   #   #   #   #   #   #   #   #   #   #   #  \n"
     ]
    }
   ],
   "source": [
    "def get_triangle(n : int , inverted : bool = False) -> None :\n",
    "    if inverted == False :\n",
    "        for i in range(1 , n + 1) :\n",
    "            print(\"  \" * (n - i) + \" #  \" * i)\n",
    "        return\n",
    "\n",
    "    for i in range(n , 0 , -1) :\n",
    "        print(\"  \" * (n - i) + \" #  \" * i)\n",
    "\n",
    "get_triangle(15)"
   ]
  },
  {
   "cell_type": "code",
   "execution_count": 1,
   "metadata": {},
   "outputs": [],
   "source": [
    "import random"
   ]
  },
  {
   "cell_type": "code",
   "execution_count": 19,
   "metadata": {},
   "outputs": [
    {
     "data": {
      "text/plain": [
       "6"
      ]
     },
     "execution_count": 19,
     "metadata": {},
     "output_type": "execute_result"
    }
   ],
   "source": [
    "random.randrange(1 , 7)"
   ]
  },
  {
   "cell_type": "code",
   "execution_count": 22,
   "metadata": {},
   "outputs": [
    {
     "data": {
      "text/plain": [
       "5"
      ]
     },
     "execution_count": 22,
     "metadata": {},
     "output_type": "execute_result"
    }
   ],
   "source": [
    "random.choice([1 , 4, 5, 6,7])"
   ]
  },
  {
   "cell_type": "code",
   "execution_count": 29,
   "metadata": {},
   "outputs": [],
   "source": [
    "def get_right_triangle(n : int , inverted : bool = False) -> None :\n",
    "    if inverted == False :\n",
    "        for i in range(1 , n + 1) :\n",
    "            print(\"*  \" * i)\n",
    "        return\n",
    "\n",
    "    for i in range(n , 0 , -1) :\n",
    "        print(\"*  \" * i)"
   ]
  },
  {
   "cell_type": "code",
   "execution_count": 30,
   "metadata": {},
   "outputs": [
    {
     "name": "stdout",
     "output_type": "stream",
     "text": [
      "*  \n",
      "*  *  \n",
      "*  *  *  \n",
      "*  *  *  *  \n",
      "*  *  *  *  *  \n"
     ]
    }
   ],
   "source": [
    "get_right_triangle(5)"
   ]
  },
  {
   "cell_type": "code",
   "execution_count": 40,
   "metadata": {},
   "outputs": [],
   "source": [
    "def get_diamond(n : int) -> None :\n",
    "    for i in range(1 , n + 1) :\n",
    "        print(\"   \" * (n - i) + \"  *   \" * i)\n",
    "    for i in range(n - 1 , 0 , -1) :\n",
    "        print(\"   \" * (n - i) + \"  *   \" * i)"
   ]
  },
  {
   "cell_type": "code",
   "execution_count": 41,
   "metadata": {},
   "outputs": [
    {
     "name": "stdout",
     "output_type": "stream",
     "text": [
      "              *   \n",
      "           *     *   \n",
      "        *     *     *   \n",
      "     *     *     *     *   \n",
      "  *     *     *     *     *   \n",
      "     *     *     *     *   \n",
      "        *     *     *   \n",
      "           *     *   \n",
      "              *   \n"
     ]
    }
   ],
   "source": [
    "get_diamond(5)"
   ]
  },
  {
   "cell_type": "code",
   "execution_count": 11,
   "metadata": {},
   "outputs": [],
   "source": [
    "a = \"sAqib\""
   ]
  },
  {
   "cell_type": "code",
   "execution_count": 5,
   "metadata": {},
   "outputs": [
    {
     "data": {
      "text/plain": [
       "'Saqib'"
      ]
     },
     "execution_count": 5,
     "metadata": {},
     "output_type": "execute_result"
    }
   ],
   "source": [
    "a.lo"
   ]
  },
  {
   "cell_type": "code",
   "execution_count": 12,
   "metadata": {},
   "outputs": [],
   "source": [
    "if a[0].isupper() :\n",
    "    a = a.replace(a[0] , a[0].lower())\n",
    "else :\n",
    "    a = a.replace(a[0] , a[0].upper())"
   ]
  },
  {
   "cell_type": "code",
   "execution_count": 14,
   "metadata": {},
   "outputs": [],
   "source": [
    "# 1. Find the duplicate character in a string.\n",
    "# 2. Find whether string is palindrome or Not.\n",
    "# 3. Count Vowels in a given sentence\n",
    "# 4. Reverse the string without any inbuilt method"
   ]
  },
  {
   "cell_type": "code",
   "execution_count": 42,
   "metadata": {},
   "outputs": [
    {
     "name": "stdout",
     "output_type": "stream",
     "text": [
      "Duplicates are : I a h S "
     ]
    }
   ],
   "source": [
    "str1 = \"I am Saqib ShaIkh\"\n",
    "duplicates = \"\"\n",
    "l = len(str1)\n",
    "for i in range(l) :\n",
    "    if str1[i] in str1[i+1 : ] and str1[i] != \" \":\n",
    "        duplicates += str1[i]\n",
    "print(\"Duplicates are : \" , end = \"\")\n",
    "for i in set(duplicates) :\n",
    "    print(i , end = \" \")"
   ]
  },
  {
   "cell_type": "code",
   "execution_count": 30,
   "metadata": {},
   "outputs": [
    {
     "name": "stdout",
     "output_type": "stream",
     "text": [
      "Given string is Palindrome\n"
     ]
    }
   ],
   "source": [
    "str2 = \"abcba\"\n",
    "ans = \"\"\n",
    "n = len(str2)\n",
    "for i in range(n) :\n",
    "    ans += str2[-(i + 1)]\n",
    "if ans == str2 :\n",
    "    print(\"Given string is Palindrome\")\n",
    "else :\n",
    "    print(\"Given string is NOT a Palindrome\")"
   ]
  },
  {
   "cell_type": "code",
   "execution_count": 31,
   "metadata": {},
   "outputs": [
    {
     "name": "stdout",
     "output_type": "stream",
     "text": [
      "Total Vowels are :  5\n"
     ]
    }
   ],
   "source": [
    "sentence = \"count the vowels\"\n",
    "vowels = \"aeiouAEIOU\"\n",
    "count = 0\n",
    "for i in sentence :\n",
    "    if i in vowels :\n",
    "        count += 1\n",
    "print(\"Total Vowels are : \" , count)"
   ]
  },
  {
   "cell_type": "code",
   "execution_count": 41,
   "metadata": {},
   "outputs": [
    {
     "data": {
      "text/plain": [
       "'gnirts gnisreveR'"
      ]
     },
     "execution_count": 41,
     "metadata": {},
     "output_type": "execute_result"
    }
   ],
   "source": [
    "str3 = \"Reversing string\"\n",
    "reversed_str3 = \"\"\n",
    "for char in str3 :\n",
    "    reversed_str3 = char + reversed_str3\n",
    "\n",
    "reversed_str3"
   ]
  },
  {
   "cell_type": "code",
   "execution_count": 15,
   "metadata": {},
   "outputs": [
    {
     "name": "stdout",
     "output_type": "stream",
     "text": [
      "1  \n",
      "1  2  \n",
      "1  2  3  \n",
      "1  2  3  4  \n",
      "1  2  3  4  5  \n",
      "1  2  3  4  5  6  \n",
      "1  2  3  4  5  6  7  \n",
      "1  2  3  4  5  6  7  8  \n",
      "1  2  3  4  5  6  7  8  9  \n",
      "1  2  3  4  5  6  7  8  9  10  \n",
      "1  2  3  4  5  6  7  8  9  10  11  \n",
      "1  2  3  4  5  6  7  8  9  10  11  12  \n",
      "1  2  3  4  5  6  7  8  9  10  11  12  13  \n",
      "1  2  3  4  5  6  7  8  9  10  11  12  13  14  \n",
      "1  2  3  4  5  6  7  8  9  10  11  12  13  14  15  \n",
      "1  2  3  4  5  6  7  8  9  10  11  12  13  14  15  16  \n",
      "1  2  3  4  5  6  7  8  9  10  11  12  13  14  15  16  17  \n",
      "1  2  3  4  5  6  7  8  9  10  11  12  13  14  15  16  17  18  \n",
      "1  2  3  4  5  6  7  8  9  10  11  12  13  14  15  16  17  18  19  \n",
      "1  2  3  4  5  6  7  8  9  10  11  12  13  14  15  16  17  18  19  20  \n"
     ]
    }
   ],
   "source": [
    "def pattern1(n) :\n",
    "    for i in range(1 , n*n + 1) :\n",
    "        if \n",
    "        print()\n",
    "pattern1(20)\n"
   ]
  },
  {
   "cell_type": "code",
   "execution_count": 51,
   "metadata": {},
   "outputs": [
    {
     "name": "stdout",
     "output_type": "stream",
     "text": [
      "1    2    3    4    5    6    7    8    9    10   11   12   13   14   15   \n",
      "2    3    4    5    6    7    8    9    10   11   12   13   14   15   \n",
      "3    4    5    6    7    8    9    10   11   12   13   14   15   \n",
      "4    5    6    7    8    9    10   11   12   13   14   15   \n",
      "5    6    7    8    9    10   11   12   13   14   15   \n",
      "6    7    8    9    10   11   12   13   14   15   \n",
      "7    8    9    10   11   12   13   14   15   \n",
      "8    9    10   11   12   13   14   15   \n",
      "9    10   11   12   13   14   15   \n",
      "10   11   12   13   14   15   \n",
      "11   12   13   14   15   \n",
      "12   13   14   15   \n",
      "13   14   15   \n",
      "14   15   \n",
      "15   \n",
      "\n"
     ]
    }
   ],
   "source": [
    "n = 16\n",
    "num = 1\n",
    "justify = len(str(n*(n+1)//2)) + 1\n",
    "for i in range(1 , n + 1) :\n",
    "    for j in range(n - i) :\n",
    "        print(str(i + j).ljust(justify) , end=\" \")\n",
    "    num += i\n",
    "    print()"
   ]
  },
  {
   "cell_type": "code",
   "execution_count": 49,
   "metadata": {},
   "outputs": [
    {
     "name": "stdout",
     "output_type": "stream",
     "text": [
      "1    2    3    4    5    6    7    8    9    10   \n",
      "11   12   13   14   15   16   17   18   19   \n",
      "20   21   22   23   24   25   26   27   \n",
      "28   29   30   31   32   33   34   \n",
      "35   36   37   38   39   40   \n",
      "41   42   43   44   45   \n",
      "46   47   48   49   \n",
      "50   51   52   \n",
      "53   54   \n",
      "55   \n"
     ]
    }
   ],
   "source": [
    "def get_triangle_pattern1(n : int = 5 , inverted = False) -> None :\n",
    "    spacing = len(str(n * (n + 1) // 2)) + 1\n",
    "    start = 1\n",
    "\n",
    "    if inverted == False :\n",
    "        for i in range(1 , n + 1) :\n",
    "            for j in range(i) :\n",
    "                print(str(start + j).ljust(spacing) , end = \"  \")\n",
    "            start += i\n",
    "            print()\n",
    "        return\n",
    "\n",
    "    for i in range(n) :\n",
    "        for j in range(n - i) :\n",
    "            print(str(start).ljust(spacing) , end = \"  \")\n",
    "            start += 1\n",
    "        print()\n",
    "\n",
    "get_triangle_pattern1(10 , inverted=True)"
   ]
  },
  {
   "cell_type": "code",
   "execution_count": 3,
   "metadata": {},
   "outputs": [
    {
     "name": "stdout",
     "output_type": "stream",
     "text": [
      "\u001b[34mdef\u001b[39;49;00m \u001b[32mget_triangle1\u001b[39;49;00m(n : \u001b[36mint\u001b[39;49;00m = \u001b[34m5\u001b[39;49;00m , inverted : \u001b[36mbool\u001b[39;49;00m = \u001b[34mFalse\u001b[39;49;00m) -> \u001b[34mNone\u001b[39;49;00m :\u001b[37m\u001b[39;49;00m\n",
      "    \u001b[37m# Initialize the ASCII value for character printing\u001b[39;49;00m\u001b[37m\u001b[39;49;00m\n",
      "    asci = \u001b[34m65\u001b[39;49;00m\u001b[37m\u001b[39;49;00m\n",
      "\u001b[37m\u001b[39;49;00m\n",
      "    \u001b[37m# If inverted is False, print the triangle in regular order\u001b[39;49;00m\u001b[37m\u001b[39;49;00m\n",
      "    \u001b[34mif\u001b[39;49;00m inverted == \u001b[34mFalse\u001b[39;49;00m :\u001b[37m\u001b[39;49;00m\n",
      "        \u001b[37m# Loop through rows from 1 to n\u001b[39;49;00m\u001b[37m\u001b[39;49;00m\n",
      "        \u001b[34mfor\u001b[39;49;00m i \u001b[35min\u001b[39;49;00m \u001b[36mrange\u001b[39;49;00m(\u001b[34m1\u001b[39;49;00m , n + \u001b[34m1\u001b[39;49;00m) :\u001b[37m\u001b[39;49;00m\n",
      "            \u001b[37m# Loop through columns based on the current row\u001b[39;49;00m\u001b[37m\u001b[39;49;00m\n",
      "            \u001b[34mfor\u001b[39;49;00m j \u001b[35min\u001b[39;49;00m \u001b[36mrange\u001b[39;49;00m(i) :\u001b[37m\u001b[39;49;00m\n",
      "               \u001b[37m# Print the character corresponding to the ASCII value\u001b[39;49;00m\u001b[37m\u001b[39;49;00m\n",
      "                \u001b[36mprint\u001b[39;49;00m(\u001b[36mchr\u001b[39;49;00m(asci) , end = \u001b[33m\"\u001b[39;49;00m\u001b[33m  \u001b[39;49;00m\u001b[33m\"\u001b[39;49;00m)\u001b[37m\u001b[39;49;00m\n",
      "\u001b[37m\u001b[39;49;00m\n",
      "                \u001b[37m# Increment ASCII value, cycle back to 'A' if it exceeds 'Z'\u001b[39;49;00m\u001b[37m\u001b[39;49;00m\n",
      "                asci += \u001b[34m1\u001b[39;49;00m\u001b[37m\u001b[39;49;00m\n",
      "                \u001b[34mif\u001b[39;49;00m asci > \u001b[34m90\u001b[39;49;00m :\u001b[37m\u001b[39;49;00m\n",
      "                    asci = \u001b[34m65\u001b[39;49;00m                   \u001b[37m\u001b[39;49;00m\n",
      "            \u001b[37m# Move to the next line after each row is printed\u001b[39;49;00m\u001b[37m\u001b[39;49;00m\n",
      "            \u001b[36mprint\u001b[39;49;00m()\u001b[37m\u001b[39;49;00m\n",
      "        \u001b[34mreturn\u001b[39;49;00m\u001b[37m\u001b[39;49;00m\n",
      "        \u001b[37m\u001b[39;49;00m\n",
      "    \u001b[37m# If inverted is True, print the triangle in inverted order\u001b[39;49;00m\u001b[37m\u001b[39;49;00m\n",
      "    \u001b[34mfor\u001b[39;49;00m i \u001b[35min\u001b[39;49;00m \u001b[36mrange\u001b[39;49;00m(n , \u001b[34m0\u001b[39;49;00m , -\u001b[34m1\u001b[39;49;00m) :\u001b[37m\u001b[39;49;00m\n",
      "        \u001b[34mfor\u001b[39;49;00m j \u001b[35min\u001b[39;49;00m \u001b[36mrange\u001b[39;49;00m(i) :\u001b[37m\u001b[39;49;00m\n",
      "            \u001b[36mprint\u001b[39;49;00m(\u001b[36mchr\u001b[39;49;00m(asci) , end = \u001b[33m\"\u001b[39;49;00m\u001b[33m  \u001b[39;49;00m\u001b[33m\"\u001b[39;49;00m)\u001b[37m\u001b[39;49;00m\n",
      "            asci += \u001b[34m1\u001b[39;49;00m\u001b[37m\u001b[39;49;00m\n",
      "            \u001b[34mif\u001b[39;49;00m asci > \u001b[34m90\u001b[39;49;00m :\u001b[37m\u001b[39;49;00m\n",
      "                asci = \u001b[34m65\u001b[39;49;00m\u001b[37m\u001b[39;49;00m\n",
      "        \u001b[36mprint\u001b[39;49;00m()\u001b[37m\u001b[39;49;00m\n",
      "\n"
     ]
    }
   ],
   "source": [
    "from pygments import highlight\n",
    "from pygments.lexers import PythonLexer\n",
    "from pygments.formatters import TerminalFormatter\n",
    "\n",
    "lexer = PythonLexer()\n",
    "formatter = TerminalFormatter()\n",
    "\n",
    "def get_triangle1_code() -> None :\n",
    "\n",
    "    code = \"\"\"\n",
    "def get_triangle1(n : int = 5 , inverted : bool = False) -> None :\n",
    "    # Initialize the ASCII value for character printing\n",
    "    asci = 65\n",
    "\n",
    "    # If inverted is False, print the triangle in regular order\n",
    "    if inverted == False :\n",
    "        # Loop through rows from 1 to n\n",
    "        for i in range(1 , n + 1) :\n",
    "            # Loop through columns based on the current row\n",
    "            for j in range(i) :\n",
    "               # Print the character corresponding to the ASCII value\n",
    "                print(chr(asci) , end = \"  \")\n",
    "\n",
    "                # Increment ASCII value, cycle back to 'A' if it exceeds 'Z'\n",
    "                asci += 1\n",
    "                if asci > 90 :\n",
    "                    asci = 65                   \n",
    "            # Move to the next line after each row is printed\n",
    "            print()\n",
    "        return\n",
    "        \n",
    "    # If inverted is True, print the triangle in inverted order\n",
    "    for i in range(n , 0 , -1) :\n",
    "        for j in range(i) :\n",
    "            print(chr(asci) , end = \"  \")\n",
    "            asci += 1\n",
    "            if asci > 90 :\n",
    "                asci = 65\n",
    "        print()\n",
    "\"\"\"\n",
    "    highlighted_code = highlight(code, lexer, formatter)\n",
    "    print(highlighted_code)\n",
    "\n",
    "get_triangle1_code()"
   ]
  },
  {
   "cell_type": "code",
   "execution_count": 5,
   "metadata": {},
   "outputs": [],
   "source": [
    "import patterns"
   ]
  },
  {
   "cell_type": "code",
   "execution_count": 21,
   "metadata": {},
   "outputs": [],
   "source": [
    "from patterns import alphabet_patterns , get_pattern_code , number_patterns"
   ]
  },
  {
   "cell_type": "code",
   "execution_count": 7,
   "metadata": {},
   "outputs": [
    {
     "name": "stdout",
     "output_type": "stream",
     "text": [
      "            A  \n",
      "         B  C  D  \n",
      "      E  F  G  H  I  \n",
      "   J  K  L  M  N  O  P  \n",
      "Q  R  S  T  U  V  W  X  Y  \n"
     ]
    }
   ],
   "source": [
    "alphabet_patterns.get_pyramid()"
   ]
  },
  {
   "cell_type": "code",
   "execution_count": 15,
   "metadata": {},
   "outputs": [
    {
     "name": "stdout",
     "output_type": "stream",
     "text": [
      "A   B   C   D   E   F   G   H   I   J   K   L   M   N   O   P   Q   R   S   T   \n",
      "  U   V   W   X   Y   Z   A   B   C   D   E   F   G   H   I   J   K   L   M   \n",
      "    N   O   P   Q   R   S   T   U   V   W   X   Y   Z   A   B   C   D   E   \n",
      "      F   G   H   I   J   K   L   M   N   O   P   Q   R   S   T   U   V   \n",
      "        W   X   Y   Z   A   B   C   D   E   F   G   H   I   J   K   L   \n",
      "          M   N   O   P   Q   R   S   T   U   V   W   X   Y   Z   A   \n",
      "            B   C   D   E   F   G   H   I   J   K   L   M   N   O   \n",
      "              P   Q   R   S   T   U   V   W   X   Y   Z   A   B   \n",
      "                C   D   E   F   G   H   I   J   K   L   M   N   \n",
      "                  O   P   Q   R   S   T   U   V   W   X   Y   \n",
      "                    Z   A   B   C   D   E   F   G   H   I   \n",
      "                      J   K   L   M   N   O   P   Q   R   \n",
      "                        S   T   U   V   W   X   Y   Z   \n",
      "                          A   B   C   D   E   F   G   \n",
      "                            H   I   J   K   L   M   \n",
      "                              N   O   P   Q   R   \n",
      "                                S   T   U   V   \n",
      "                                  W   X   Y   \n",
      "                                    Z   A   \n",
      "                                      B   \n"
     ]
    }
   ],
   "source": [
    "alphabet_patterns.get_pyramid1(20 , inverted=1)"
   ]
  },
  {
   "cell_type": "code",
   "execution_count": 10,
   "metadata": {},
   "outputs": [
    {
     "name": "stdout",
     "output_type": "stream",
     "text": [
      "A  B  C  D  E  \n",
      "F  G  H  I  \n",
      "J  K  L  \n",
      "M  N  \n",
      "O  \n"
     ]
    }
   ],
   "source": [
    "alphabet_patterns.get_triangle(inverted=1)"
   ]
  },
  {
   "cell_type": "code",
   "execution_count": 20,
   "metadata": {},
   "outputs": [
    {
     "name": "stdout",
     "output_type": "stream",
     "text": [
      "\u001b[34mdef\u001b[39;49;00m \u001b[32mget_right_triangle\u001b[39;49;00m(n : \u001b[36mint\u001b[39;49;00m , inverted : \u001b[36mbool\u001b[39;49;00m = \u001b[34mFalse\u001b[39;49;00m) -> \u001b[34mNone\u001b[39;49;00m :\u001b[37m\u001b[39;49;00m\n",
      "    \u001b[34mif\u001b[39;49;00m inverted == \u001b[34mFalse\u001b[39;49;00m :\u001b[37m\u001b[39;49;00m\n",
      "        \u001b[34mfor\u001b[39;49;00m i \u001b[35min\u001b[39;49;00m \u001b[36mrange\u001b[39;49;00m(\u001b[34m1\u001b[39;49;00m , n + \u001b[34m1\u001b[39;49;00m) :\u001b[37m\u001b[39;49;00m\n",
      "            \u001b[36mprint\u001b[39;49;00m(\u001b[33m\"\u001b[39;49;00m\u001b[33m*  \u001b[39;49;00m\u001b[33m\"\u001b[39;49;00m * i)\u001b[37m\u001b[39;49;00m\n",
      "        \u001b[34mreturn\u001b[39;49;00m\u001b[37m\u001b[39;49;00m\n",
      "\u001b[37m\u001b[39;49;00m\n",
      "    \u001b[34mfor\u001b[39;49;00m i \u001b[35min\u001b[39;49;00m \u001b[36mrange\u001b[39;49;00m(n , \u001b[34m0\u001b[39;49;00m , -\u001b[34m1\u001b[39;49;00m) :\u001b[37m\u001b[39;49;00m\n",
      "        \u001b[36mprint\u001b[39;49;00m(\u001b[33m\"\u001b[39;49;00m\u001b[33m*  \u001b[39;49;00m\u001b[33m\"\u001b[39;49;00m * i)\u001b[37m\u001b[39;49;00m\n",
      "    \u001b[37m\u001b[39;49;00m\n",
      "\n"
     ]
    }
   ],
   "source": [
    "get_pattern_code.get_right_triangle_code()"
   ]
  },
  {
   "cell_type": "code",
   "execution_count": null,
   "metadata": {},
   "outputs": [],
   "source": []
  }
 ],
 "metadata": {
  "kernelspec": {
   "display_name": "Python 3.8.10 64-bit",
   "language": "python",
   "name": "python3"
  },
  "language_info": {
   "codemirror_mode": {
    "name": "ipython",
    "version": 3
   },
   "file_extension": ".py",
   "mimetype": "text/x-python",
   "name": "python",
   "nbconvert_exporter": "python",
   "pygments_lexer": "ipython3",
   "version": "3.8.10"
  },
  "orig_nbformat": 4,
  "vscode": {
   "interpreter": {
    "hash": "e7370f93d1d0cde622a1f8e1c04877d8463912d04d973331ad4851f04de6915a"
   }
  }
 },
 "nbformat": 4,
 "nbformat_minor": 2
}
