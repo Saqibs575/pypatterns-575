{
 "cells": [
  {
   "cell_type": "markdown",
   "metadata": {},
   "source": [
    "# **NAME PATTERNS**"
   ]
  },
  {
   "cell_type": "code",
   "execution_count": 1,
   "metadata": {},
   "outputs": [],
   "source": [
    "from pypatterns.name_patterns import get_name"
   ]
  },
  {
   "cell_type": "code",
   "execution_count": 2,
   "metadata": {},
   "outputs": [
    {
     "name": "stdout",
     "output_type": "stream",
     "text": [
      "   * * *         * *         * * *     * * * * *   * * * *             * * *     *         *      * *      * * * * *   *         *  *         *  \n",
      " *       *     *     *     *       *       *       *       *         *       *   *         *    *     *        *       *       *    *         *  \n",
      "*             *       *   *         *      *       *        *       *            *         *   *       *       *       *     *      *         *  \n",
      " *           *         *  *         *      *       *       *         *           *         *  *         *      *       *   *        *         *  \n",
      "   * * *     * * * * * *  *         *      *       * * * *             * * *     * * * * * *  * * * * * *      *       * *          * * * * * *  \n",
      "         *   *         *  *         *      *       *       *                 *   *         *  *         *      *       *   *        *         *  \n",
      "          *  *         *  *      *  *      *       *        *                 *  *         *  *         *      *       *     *      *         *  \n",
      " *       *   *         *   *       *       *       *       *         *       *   *         *  *         *      *       *       *    *         *  \n",
      "   * * *     *         *     * * *   * * * * * *   * * * *             * * *     *         *  *         *  * * * * *   *         *  *         *  \n"
     ]
    }
   ],
   "source": [
    "get_name(\"SAQIB SHAIKH\")"
   ]
  },
  {
   "cell_type": "code",
   "execution_count": 3,
   "metadata": {},
   "outputs": [
    {
     "name": "stdout",
     "output_type": "stream",
     "text": [
      "   / / /         / /         / / /     / / / / /   / / / /     \n",
      " /       /     /     /     /       /       /       /       /   \n",
      "/             /       /   /         /      /       /        /  \n",
      " /           /         /  /         /      /       /       /   \n",
      "   / / /     / / / / / /  /         /      /       / / / /     \n",
      "         /   /         /  /         /      /       /       /   \n",
      "          /  /         /  /      /  /      /       /        /  \n",
      " /       /   /         /   /       /       /       /       /   \n",
      "   / / /     /         /     / / /   / / / / / /   / / / /     \n"
     ]
    }
   ],
   "source": [
    "get_name(name=\"SAQIB\", symbol=\"/\")"
   ]
  },
  {
   "cell_type": "markdown",
   "metadata": {},
   "source": [
    "# **STAR PATTERNS**"
   ]
  },
  {
   "cell_type": "markdown",
   "metadata": {},
   "source": [
    "## **PYRAMID**"
   ]
  },
  {
   "cell_type": "code",
   "execution_count": 6,
   "metadata": {},
   "outputs": [],
   "source": [
    "from pypatterns import star_patterns"
   ]
  },
  {
   "cell_type": "code",
   "execution_count": 7,
   "metadata": {},
   "outputs": [
    {
     "name": "stdout",
     "output_type": "stream",
     "text": [
      "             * \n",
      "          *  *  * \n",
      "       *  *  *  *  * \n",
      "    *  *  *  *  *  *  * \n",
      " *  *  *  *  *  *  *  *  * \n"
     ]
    }
   ],
   "source": [
    "star_patterns.get_star_pyramid()"
   ]
  },
  {
   "cell_type": "code",
   "execution_count": 8,
   "metadata": {},
   "outputs": [
    {
     "name": "stdout",
     "output_type": "stream",
     "text": [
      "        * \n",
      "      *   *\n",
      "    *       *\n",
      "  *           *\n",
      "* * * * * * * * * \n"
     ]
    }
   ],
   "source": [
    "star_patterns.get_star_hollow_pyramid()"
   ]
  },
  {
   "cell_type": "code",
   "execution_count": 9,
   "metadata": {},
   "outputs": [
    {
     "name": "stdout",
     "output_type": "stream",
     "text": [
      " *  *  *  *  *  *  *  *  *  *  *  *  *  *  *  *  *  *  * \n",
      "    *  *  *  *  *  *  *  *  *  *  *  *  *  *  *  *  * \n",
      "       *  *  *  *  *  *  *  *  *  *  *  *  *  *  * \n",
      "          *  *  *  *  *  *  *  *  *  *  *  *  * \n",
      "             *  *  *  *  *  *  *  *  *  *  * \n",
      "                *  *  *  *  *  *  *  *  * \n",
      "                   *  *  *  *  *  *  * \n",
      "                      *  *  *  *  * \n",
      "                         *  *  * \n",
      "                            * \n"
     ]
    }
   ],
   "source": [
    "star_patterns.get_star_pyramid(n = 10 , inverted = True)"
   ]
  },
  {
   "cell_type": "markdown",
   "metadata": {},
   "source": [
    "## **TRIANGLE**"
   ]
  },
  {
   "cell_type": "code",
   "execution_count": 10,
   "metadata": {},
   "outputs": [
    {
     "name": "stdout",
     "output_type": "stream",
     "text": [
      "*  \n",
      "*  *  \n",
      "*  *  *  \n",
      "*  *  *  *  \n",
      "*  *  *  *  *  \n"
     ]
    }
   ],
   "source": [
    "star_patterns.get_star_triangle()"
   ]
  },
  {
   "cell_type": "code",
   "execution_count": 11,
   "metadata": {},
   "outputs": [
    {
     "name": "stdout",
     "output_type": "stream",
     "text": [
      "*  *  *  *  *  *  \n",
      "*  *  *  *  *  \n",
      "*  *  *  *  \n",
      "*  *  *  \n",
      "*  *  \n",
      "*  \n"
     ]
    }
   ],
   "source": [
    "star_patterns.get_star_triangle(n = 6, inverted = True)"
   ]
  },
  {
   "cell_type": "code",
   "execution_count": 12,
   "metadata": {},
   "outputs": [
    {
     "name": "stdout",
     "output_type": "stream",
     "text": [
      "* \n",
      "* *\n",
      "*   *\n",
      "*     *\n",
      "*       *\n",
      "*         *\n",
      "* * * * * * * \n"
     ]
    }
   ],
   "source": [
    "star_patterns.get_star_hollow_triangle(n = 7)"
   ]
  },
  {
   "cell_type": "markdown",
   "metadata": {},
   "source": [
    "## **DIAMOND**"
   ]
  },
  {
   "cell_type": "code",
   "execution_count": 13,
   "metadata": {},
   "outputs": [
    {
     "name": "stdout",
     "output_type": "stream",
     "text": [
      "        * \n",
      "      * * * \n",
      "    * * * * * \n",
      "  * * * * * * * \n",
      "* * * * * * * * * \n",
      "  * * * * * * * \n",
      "    * * * * * \n",
      "      * * * \n",
      "        * \n"
     ]
    }
   ],
   "source": [
    "star_patterns.get_star_diamond()"
   ]
  },
  {
   "cell_type": "code",
   "execution_count": 14,
   "metadata": {},
   "outputs": [
    {
     "name": "stdout",
     "output_type": "stream",
     "text": [
      "            *\n",
      "          *   *\n",
      "        *       *\n",
      "      *           *\n",
      "    *               *\n",
      "  *                   *\n",
      "*                       *\n",
      "  *                   *\n",
      "    *               *\n",
      "      *           *\n",
      "        *       *\n",
      "          *   *\n",
      "            *\n"
     ]
    }
   ],
   "source": [
    "star_patterns.get_star_hollow_diamond(n = 7)"
   ]
  },
  {
   "cell_type": "code",
   "execution_count": 15,
   "metadata": {},
   "outputs": [
    {
     "name": "stdout",
     "output_type": "stream",
     "text": [
      "         *  \n",
      "       *   *  \n",
      "     *   *   *  \n",
      "   *   *   *   *  \n",
      " *   *   *   *   *  \n",
      "   *   *   *   *  \n",
      "     *   *   *  \n",
      "       *   *  \n",
      "         *  \n"
     ]
    }
   ],
   "source": [
    "star_patterns.get_star_diamond2()"
   ]
  },
  {
   "cell_type": "markdown",
   "metadata": {},
   "source": [
    "## **GET ALL START PATTERNS**"
   ]
  },
  {
   "cell_type": "code",
   "execution_count": 16,
   "metadata": {},
   "outputs": [
    {
     "name": "stdout",
     "output_type": "stream",
     "text": [
      "*  *  *  *  *  \n",
      "*           *\n",
      "*           *\n",
      "*           *\n",
      "*  *  *  *  *  \n",
      "\n",
      "         *  *  *  *  * \n",
      "       *           *\n",
      "     *           *\n",
      "   *           *\n",
      " *  *  *  *  * \n",
      "\n",
      "*  *  *  *  *  \n",
      "*  *  *  *  *  \n",
      "*  *  *  *  *  \n",
      "*  *  *  *  *  \n",
      "*  *  *  *  *  \n",
      "\n",
      "         *  *  *  *  * \n",
      "       *  *  *  *  * \n",
      "     *  *  *  *  * \n",
      "   *  *  *  *  * \n",
      " *  *  *  *  * \n",
      "\n",
      "        * \n",
      "      * * * \n",
      "    * * * * * \n",
      "  * * * * * * * \n",
      "* * * * * * * * * \n",
      "  * * * * * * * \n",
      "    * * * * * \n",
      "      * * * \n",
      "        * \n",
      "\n",
      "         *  \n",
      "       *   *  \n",
      "     *   *   *  \n",
      "   *   *   *   *  \n",
      " *   *   *   *   *  \n",
      "   *   *   *   *  \n",
      "     *   *   *  \n",
      "       *   *  \n",
      "         *  \n",
      "\n",
      "        *\n",
      "      *   *\n",
      "    *       *\n",
      "  *           *\n",
      "*               *\n",
      "  *           *\n",
      "    *       *\n",
      "      *   *\n",
      "        *\n",
      "\n",
      "        * \n",
      "      *   *\n",
      "    *       *\n",
      "  *           *\n",
      "* * * * * * * * * \n",
      "\n",
      "* \n",
      "* *\n",
      "*   *\n",
      "*     *\n",
      "* * * * * \n",
      "\n",
      "             * \n",
      "          *  *  * \n",
      "       *  *  *  *  * \n",
      "    *  *  *  *  *  *  * \n",
      " *  *  *  *  *  *  *  *  * \n",
      "\n",
      "         *  \n",
      "       *   *  \n",
      "     *   *   *  \n",
      "   *   *   *   *  \n",
      " *   *   *   *   *  \n",
      "\n",
      "*  \n",
      "*  *  \n",
      "*  *  *  \n",
      "*  *  *  *  \n",
      "*  *  *  *  *  \n",
      "\n",
      "*               *\n",
      "  *           *\n",
      "    *       *\n",
      "      *   *\n",
      "        *\n",
      "      *   *\n",
      "    *       *\n",
      "  *           *\n",
      "*               *\n",
      "\n"
     ]
    }
   ],
   "source": [
    "# LET'S PRINT ALL STAR PATTERNS IN ONE STROKE WITH DEFAULT ARGUMENTS\n",
    "from pypatterns.star_patterns import *\n",
    "\n",
    "for func in dir(star_patterns) :\n",
    "    if callable(getattr(star_patterns, func)) :\n",
    "        globals()[func]()\n",
    "        print()"
   ]
  },
  {
   "cell_type": "code",
   "execution_count": 17,
   "metadata": {},
   "outputs": [
    {
     "name": "stdout",
     "output_type": "stream",
     "text": [
      "\n",
      " *  *  *  *  * \n",
      "   *           *\n",
      "     *           *\n",
      "       *           *\n",
      "         *  *  *  *  * \n",
      "\n",
      "\n",
      " *  *  *  *  * \n",
      "   *  *  *  *  * \n",
      "     *  *  *  *  * \n",
      "       *  *  *  *  * \n",
      "         *  *  *  *  * \n",
      "\n",
      "\n",
      "\n",
      "\n",
      "* * * * * * * * * \n",
      "  *           *\n",
      "    *       *\n",
      "      *   *\n",
      "        * \n",
      "\n",
      "* * * * * \n",
      "*     *\n",
      "*   *\n",
      "* *\n",
      "* \n",
      "\n",
      " *  *  *  *  *  *  *  *  * \n",
      "    *  *  *  *  *  *  * \n",
      "       *  *  *  *  * \n",
      "          *  *  * \n",
      "             * \n",
      "\n",
      " *   *   *   *   *  \n",
      "   *   *   *   *  \n",
      "     *   *   *  \n",
      "       *   *  \n",
      "         *  \n",
      "\n",
      "*  *  *  *  *  \n",
      "*  *  *  *  \n",
      "*  *  *  \n",
      "*  *  \n",
      "*  \n",
      "\n",
      "\n"
     ]
    }
   ],
   "source": [
    "# LET'S PRINT ALL STAR PATTERNS IN ONE STROKE WITH INVERTED ARGUMENT\n",
    "\n",
    "for func in dir(star_patterns) :\n",
    "    if callable(getattr(star_patterns, func)) :\n",
    "        if globals()[f'{func}'].__code__.co_varnames[1] == \"inverted\" :\n",
    "            globals()[func](inverted = True)\n",
    "        print()"
   ]
  },
  {
   "cell_type": "markdown",
   "metadata": {},
   "source": [
    "# **NUMBER PATTERNS**"
   ]
  },
  {
   "cell_type": "code",
   "execution_count": 18,
   "metadata": {},
   "outputs": [],
   "source": [
    "from pypatterns import number_patterns"
   ]
  },
  {
   "cell_type": "markdown",
   "metadata": {},
   "source": [
    "## **PASCAL'S TRIANGLE**"
   ]
  },
  {
   "cell_type": "code",
   "execution_count": 19,
   "metadata": {},
   "outputs": [
    {
     "name": "stdout",
     "output_type": "stream",
     "text": [
      "                                             1         \n",
      "                                        1         1         \n",
      "                                   1         2         1         \n",
      "                              1         3         3         1         \n",
      "                         1         4         6         4         1         \n",
      "                    1         5         10        10        5         1         \n",
      "               1         6         15        20        15        6         1         \n",
      "          1         7         21        35        35        21        7         1         \n",
      "     1         8         28        56        70        56        28        8         1         \n",
      "1         9         36        84        126       126       84        36        9         1         \n"
     ]
    }
   ],
   "source": [
    "number_patterns.get_pascal_triangle(n = 10)"
   ]
  },
  {
   "cell_type": "markdown",
   "metadata": {},
   "source": [
    "## **TRIANGLE1**"
   ]
  },
  {
   "cell_type": "code",
   "execution_count": 20,
   "metadata": {},
   "outputs": [
    {
     "name": "stdout",
     "output_type": "stream",
     "text": [
      "1   \n",
      "2   3   \n",
      "4   5   6   \n",
      "7   8   9   10  \n",
      "11  12  13  14  15  \n"
     ]
    }
   ],
   "source": [
    "number_patterns.get_triangle1()"
   ]
  },
  {
   "cell_type": "markdown",
   "metadata": {},
   "source": [
    "## **TRIANGLE2**"
   ]
  },
  {
   "cell_type": "code",
   "execution_count": 21,
   "metadata": {},
   "outputs": [
    {
     "name": "stdout",
     "output_type": "stream",
     "text": [
      "1   \n",
      "2   3   \n",
      "3   4   5   \n",
      "4   5   6   7   \n",
      "5   6   7   8   9   \n",
      "6   7   8   9   10  11  \n",
      "7   8   9   10  11  12  13  \n",
      "8   9   10  11  12  13  14  15  \n"
     ]
    }
   ],
   "source": [
    "number_patterns.get_triangle2(n = 8)"
   ]
  },
  {
   "cell_type": "markdown",
   "metadata": {},
   "source": [
    "## **PYRAMID1**"
   ]
  },
  {
   "cell_type": "code",
   "execution_count": 22,
   "metadata": {},
   "outputs": [
    {
     "name": "stdout",
     "output_type": "stream",
     "text": [
      "1  2  3  4  5  4  3  2  1  \n",
      "   1  2  3  4  3  2  1  \n",
      "      1  2  3  2  1  \n",
      "         1  2  1  \n",
      "            1  \n"
     ]
    }
   ],
   "source": [
    "number_patterns.get_pyramid1(inverted=True)"
   ]
  },
  {
   "cell_type": "markdown",
   "metadata": {},
   "source": [
    "# **ALPHABET PATTERNS**"
   ]
  },
  {
   "cell_type": "code",
   "execution_count": 23,
   "metadata": {},
   "outputs": [],
   "source": [
    "from pypatterns import alphabet_patterns"
   ]
  },
  {
   "cell_type": "markdown",
   "metadata": {},
   "source": [
    "## **TRIANGLE**"
   ]
  },
  {
   "cell_type": "code",
   "execution_count": 24,
   "metadata": {},
   "outputs": [
    {
     "name": "stdout",
     "output_type": "stream",
     "text": [
      "A  \n",
      "B  C  \n",
      "D  E  F  \n",
      "G  H  I  J  \n",
      "K  L  M  N  O  \n"
     ]
    }
   ],
   "source": [
    "alphabet_patterns.get_alpha_triangle()"
   ]
  },
  {
   "cell_type": "markdown",
   "metadata": {},
   "source": [
    "## **PYRAMID1**"
   ]
  },
  {
   "cell_type": "code",
   "execution_count": 25,
   "metadata": {},
   "outputs": [
    {
     "name": "stdout",
     "output_type": "stream",
     "text": [
      "A  B  C  D  E  F  G  H  I  \n",
      "   J  K  L  M  N  O  P  \n",
      "      Q  R  S  T  U  \n",
      "         V  W  X  \n",
      "            Y  \n"
     ]
    }
   ],
   "source": [
    "alphabet_patterns.get_alpha_pyramid1(inverted = True)"
   ]
  },
  {
   "cell_type": "markdown",
   "metadata": {},
   "source": [
    "## **PYRAMID2**"
   ]
  },
  {
   "cell_type": "code",
   "execution_count": 26,
   "metadata": {},
   "outputs": [
    {
     "name": "stdout",
     "output_type": "stream",
     "text": [
      "                  A   \n",
      "                B   C   \n",
      "              D   E   F   \n",
      "            G   H   I   J   \n",
      "          K   L   M   N   O   \n",
      "        P   Q   R   S   T   U   \n",
      "      V   W   X   Y   Z   A   B   \n",
      "    C   D   E   F   G   H   I   J   \n",
      "  K   L   M   N   O   P   Q   R   S   \n",
      "T   U   V   W   X   Y   Z   A   B   C   \n"
     ]
    }
   ],
   "source": [
    "alphabet_patterns.get_alpha_pyramid2(n = 10)"
   ]
  },
  {
   "cell_type": "markdown",
   "metadata": {},
   "source": [
    "# **GET PATTERN'S CODE**"
   ]
  },
  {
   "cell_type": "code",
   "execution_count": 27,
   "metadata": {},
   "outputs": [],
   "source": [
    "from pypatterns import get_pattern_code"
   ]
  },
  {
   "cell_type": "code",
   "execution_count": 28,
   "metadata": {},
   "outputs": [
    {
     "name": "stdout",
     "output_type": "stream",
     "text": [
      "\u001b[34mdef\u001b[39;49;00m \u001b[32mget_star_triangle\u001b[39;49;00m(n = \u001b[34m5\u001b[39;49;00m, inverted = \u001b[34mFalse\u001b[39;49;00m) :\u001b[37m\u001b[39;49;00m\n",
      "    \u001b[34mif\u001b[39;49;00m inverted == \u001b[34mFalse\u001b[39;49;00m :\u001b[37m\u001b[39;49;00m\n",
      "        \u001b[34mfor\u001b[39;49;00m i \u001b[35min\u001b[39;49;00m \u001b[36mrange\u001b[39;49;00m(\u001b[34m1\u001b[39;49;00m , n + \u001b[34m1\u001b[39;49;00m) :\u001b[37m\u001b[39;49;00m\n",
      "            \u001b[36mprint\u001b[39;49;00m(\u001b[33m\"\u001b[39;49;00m\u001b[33m*  \u001b[39;49;00m\u001b[33m\"\u001b[39;49;00m * i)\u001b[37m\u001b[39;49;00m\n",
      "        \u001b[34mreturn\u001b[39;49;00m\u001b[37m\u001b[39;49;00m\n",
      "\u001b[37m\u001b[39;49;00m\n",
      "    \u001b[34mfor\u001b[39;49;00m i \u001b[35min\u001b[39;49;00m \u001b[36mrange\u001b[39;49;00m(n , \u001b[34m0\u001b[39;49;00m , -\u001b[34m1\u001b[39;49;00m) :\u001b[37m\u001b[39;49;00m\n",
      "        \u001b[36mprint\u001b[39;49;00m(\u001b[33m\"\u001b[39;49;00m\u001b[33m*  \u001b[39;49;00m\u001b[33m\"\u001b[39;49;00m * i)\u001b[37m\u001b[39;49;00m\n",
      "get_star_triangle()        \u001b[37m\u001b[39;49;00m\n",
      "    \u001b[37m\u001b[39;49;00m\n",
      "\n"
     ]
    }
   ],
   "source": [
    "get_pattern_code.get_star_triangle_code()"
   ]
  },
  {
   "cell_type": "code",
   "execution_count": 29,
   "metadata": {},
   "outputs": [
    {
     "name": "stdout",
     "output_type": "stream",
     "text": [
      "\u001b[34mdef\u001b[39;49;00m \u001b[32mget_pyramid1\u001b[39;49;00m(n = \u001b[34m5\u001b[39;49;00m , inverted = \u001b[34mFalse\u001b[39;49;00m) :\u001b[37m\u001b[39;49;00m\n",
      "    \u001b[34mif\u001b[39;49;00m inverted == \u001b[34mFalse\u001b[39;49;00m :\u001b[37m\u001b[39;49;00m\n",
      "        \u001b[34mfor\u001b[39;49;00m i \u001b[35min\u001b[39;49;00m \u001b[36mrange\u001b[39;49;00m(\u001b[34m1\u001b[39;49;00m , n+\u001b[34m1\u001b[39;49;00m) :\u001b[37m\u001b[39;49;00m\n",
      "            \u001b[36mprint\u001b[39;49;00m(\u001b[34m3\u001b[39;49;00m*\u001b[33m\"\u001b[39;49;00m\u001b[33m \u001b[39;49;00m\u001b[33m\"\u001b[39;49;00m * (n - i) , end = \u001b[33m\"\u001b[39;49;00m\u001b[33m\"\u001b[39;49;00m)\u001b[37m\u001b[39;49;00m\n",
      "            \u001b[34mfor\u001b[39;49;00m j \u001b[35min\u001b[39;49;00m \u001b[36mrange\u001b[39;49;00m(\u001b[34m1\u001b[39;49;00m , i + \u001b[34m1\u001b[39;49;00m) :\u001b[37m\u001b[39;49;00m\n",
      "                \u001b[36mprint\u001b[39;49;00m(\u001b[36mstr\u001b[39;49;00m(j).ljust(\u001b[34m3\u001b[39;49;00m) , end = \u001b[33m\"\u001b[39;49;00m\u001b[33m\"\u001b[39;49;00m)\u001b[37m\u001b[39;49;00m\n",
      "            \u001b[34mfor\u001b[39;49;00m k \u001b[35min\u001b[39;49;00m \u001b[36mrange\u001b[39;49;00m(i-\u001b[34m1\u001b[39;49;00m , \u001b[34m0\u001b[39;49;00m , -\u001b[34m1\u001b[39;49;00m) :\u001b[37m\u001b[39;49;00m\n",
      "                \u001b[36mprint\u001b[39;49;00m(\u001b[36mstr\u001b[39;49;00m(k).ljust(\u001b[34m3\u001b[39;49;00m) , end = \u001b[33m\"\u001b[39;49;00m\u001b[33m\"\u001b[39;49;00m)\u001b[37m\u001b[39;49;00m\n",
      "            \u001b[36mprint\u001b[39;49;00m()\u001b[37m\u001b[39;49;00m\n",
      "        \u001b[34mreturn\u001b[39;49;00m\u001b[37m\u001b[39;49;00m\n",
      "\u001b[37m\u001b[39;49;00m\n",
      "    \u001b[34mfor\u001b[39;49;00m i \u001b[35min\u001b[39;49;00m \u001b[36mrange\u001b[39;49;00m(n , \u001b[34m0\u001b[39;49;00m , -\u001b[34m1\u001b[39;49;00m) :\u001b[37m\u001b[39;49;00m\n",
      "        \u001b[36mprint\u001b[39;49;00m(\u001b[34m3\u001b[39;49;00m*\u001b[33m\"\u001b[39;49;00m\u001b[33m \u001b[39;49;00m\u001b[33m\"\u001b[39;49;00m * (n - i) , end = \u001b[33m\"\u001b[39;49;00m\u001b[33m\"\u001b[39;49;00m)\u001b[37m\u001b[39;49;00m\n",
      "        \u001b[34mfor\u001b[39;49;00m j \u001b[35min\u001b[39;49;00m \u001b[36mrange\u001b[39;49;00m(\u001b[34m1\u001b[39;49;00m , i + \u001b[34m1\u001b[39;49;00m) :\u001b[37m\u001b[39;49;00m\n",
      "            \u001b[36mprint\u001b[39;49;00m(\u001b[36mstr\u001b[39;49;00m(j).ljust(\u001b[34m3\u001b[39;49;00m) , end = \u001b[33m\"\u001b[39;49;00m\u001b[33m\"\u001b[39;49;00m)\u001b[37m\u001b[39;49;00m\n",
      "        \u001b[34mfor\u001b[39;49;00m k \u001b[35min\u001b[39;49;00m \u001b[36mrange\u001b[39;49;00m(i-\u001b[34m1\u001b[39;49;00m , \u001b[34m0\u001b[39;49;00m , -\u001b[34m1\u001b[39;49;00m) :\u001b[37m\u001b[39;49;00m\n",
      "            \u001b[36mprint\u001b[39;49;00m(\u001b[36mstr\u001b[39;49;00m(k).ljust(\u001b[34m3\u001b[39;49;00m) , end = \u001b[33m\"\u001b[39;49;00m\u001b[33m\"\u001b[39;49;00m)\u001b[37m\u001b[39;49;00m\n",
      "    \u001b[36mprint\u001b[39;49;00m()\u001b[37m\u001b[39;49;00m\n",
      "get_pyramid1()\u001b[37m\u001b[39;49;00m\n",
      "\n"
     ]
    }
   ],
   "source": [
    "get_pattern_code.get_pyramid1_code()"
   ]
  },
  {
   "cell_type": "code",
   "execution_count": 30,
   "metadata": {},
   "outputs": [
    {
     "name": "stdout",
     "output_type": "stream",
     "text": [
      "\u001b[34mdef\u001b[39;49;00m \u001b[32mget_alpha_triangle\u001b[39;49;00m(n = \u001b[34m5\u001b[39;49;00m , inverted = \u001b[34mFalse\u001b[39;49;00m) :\u001b[37m\u001b[39;49;00m\n",
      "    asci = \u001b[34m65\u001b[39;49;00m\u001b[37m\u001b[39;49;00m\n",
      "    \u001b[34mif\u001b[39;49;00m inverted == \u001b[34mFalse\u001b[39;49;00m :\u001b[37m\u001b[39;49;00m\n",
      "        \u001b[34mfor\u001b[39;49;00m i \u001b[35min\u001b[39;49;00m \u001b[36mrange\u001b[39;49;00m(\u001b[34m1\u001b[39;49;00m , n + \u001b[34m1\u001b[39;49;00m) :\u001b[37m\u001b[39;49;00m\n",
      "            \u001b[34mfor\u001b[39;49;00m j \u001b[35min\u001b[39;49;00m \u001b[36mrange\u001b[39;49;00m(i) :\u001b[37m\u001b[39;49;00m\n",
      "                \u001b[36mprint\u001b[39;49;00m(\u001b[36mchr\u001b[39;49;00m(asci) , end = \u001b[33m\"\u001b[39;49;00m\u001b[33m  \u001b[39;49;00m\u001b[33m\"\u001b[39;49;00m)\u001b[37m\u001b[39;49;00m\n",
      "                asci += \u001b[34m1\u001b[39;49;00m\u001b[37m\u001b[39;49;00m\n",
      "                \u001b[34mif\u001b[39;49;00m asci > \u001b[34m90\u001b[39;49;00m :\u001b[37m\u001b[39;49;00m\n",
      "                    asci = \u001b[34m65\u001b[39;49;00m\u001b[37m\u001b[39;49;00m\n",
      "            \u001b[36mprint\u001b[39;49;00m()\u001b[37m\u001b[39;49;00m\n",
      "        \u001b[34mreturn\u001b[39;49;00m\u001b[37m\u001b[39;49;00m\n",
      "        \u001b[37m\u001b[39;49;00m\n",
      "    \u001b[34mfor\u001b[39;49;00m i \u001b[35min\u001b[39;49;00m \u001b[36mrange\u001b[39;49;00m(n , \u001b[34m0\u001b[39;49;00m , -\u001b[34m1\u001b[39;49;00m) :\u001b[37m\u001b[39;49;00m\n",
      "        \u001b[34mfor\u001b[39;49;00m j \u001b[35min\u001b[39;49;00m \u001b[36mrange\u001b[39;49;00m(i) :\u001b[37m\u001b[39;49;00m\n",
      "            \u001b[36mprint\u001b[39;49;00m(\u001b[36mchr\u001b[39;49;00m(asci) , end = \u001b[33m\"\u001b[39;49;00m\u001b[33m  \u001b[39;49;00m\u001b[33m\"\u001b[39;49;00m)\u001b[37m\u001b[39;49;00m\n",
      "            asci += \u001b[34m1\u001b[39;49;00m\u001b[37m\u001b[39;49;00m\n",
      "            \u001b[34mif\u001b[39;49;00m asci > \u001b[34m90\u001b[39;49;00m :\u001b[37m\u001b[39;49;00m\n",
      "                asci = \u001b[34m65\u001b[39;49;00m\u001b[37m\u001b[39;49;00m\n",
      "        \u001b[36mprint\u001b[39;49;00m()\u001b[37m\u001b[39;49;00m\n",
      "get_alpha_triangle()\u001b[37m\u001b[39;49;00m\n",
      "\n"
     ]
    }
   ],
   "source": [
    "get_pattern_code.get_alpha_triangle_code()"
   ]
  }
 ],
 "metadata": {
  "kernelspec": {
   "display_name": "Python 3.8.10 64-bit",
   "language": "python",
   "name": "python3"
  },
  "language_info": {
   "codemirror_mode": {
    "name": "ipython",
    "version": 3
   },
   "file_extension": ".py",
   "mimetype": "text/x-python",
   "name": "python",
   "nbconvert_exporter": "python",
   "pygments_lexer": "ipython3",
   "version": "3.8.10"
  },
  "orig_nbformat": 4,
  "vscode": {
   "interpreter": {
    "hash": "e7370f93d1d0cde622a1f8e1c04877d8463912d04d973331ad4851f04de6915a"
   }
  }
 },
 "nbformat": 4,
 "nbformat_minor": 2
}
